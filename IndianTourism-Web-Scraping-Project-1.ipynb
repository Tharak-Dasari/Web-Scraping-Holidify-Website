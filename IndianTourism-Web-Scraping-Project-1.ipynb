{
 "cells": [
  {
   "cell_type": "markdown",
   "metadata": {},
   "source": [
    "# Scraping 'Holidify' Website To Get Top 100 Indian Tourist Places\n",
    "![](https://i.imgur.com/nnDuExi.jpg)\n",
    "\n",
    "Travel planning has always been messy and difficult.*Holidify* is attempting to collect all the information that we will ever need to plan our trip - from when, where and how, to explore more hidden gems in every destination.*Holidify* is now India's favourite trip planning website as it is the one-stop solution to all our travel planning needs.\n",
    "\n",
    "Now,through this project,let us get the information about the top Indian tourist places from [Holidify-Indian Tourist Places](https://www.holidify.com/country/india/places-to-visit.html?pageNum=0) using *WEB-SCRAPING*.\n",
    "\n",
    "Web scraping is an automatic method to obtain large amounts of data from websites. It is the process of using appropriate functions and [Python libraries](https://analyticsindiamag.com/top-7-python-web-scraping-tools-for-data-scientists/) for extracting content and data from a website in a structured format by crawling through HTML pages.*[Know More about Web Scraping](https://www.datacamp.com/tutorial/web-scraping-using-python)*.\n",
    "\n",
    "\n",
    "\n"
   ]
  },
  {
   "cell_type": "markdown",
   "metadata": {},
   "source": [
    "## Project Overview\n",
    "\n",
    "Here's an outline of steps we'll follow:\n",
    "1. Install Libraries like [Jovian](https://docs.jovian.ai/docs/user-guide/install.html), [Requests](https://www.w3schools.com/python/module_requests.asp) and [BeautifulSoup](https://pypi.org/project/beautifulsoup4/)\n",
    "2. Download the web page using  *`Requests`*.\n",
    "3. Parse the HTML Source code of the website using *`BeautifulSoup`*.\n",
    "4. Extract information like Next Page links,Place Names,Best time to visit,ratings etc.\n",
    "5. Prepare python lists and dictionaries with the extracted and cleaned information.\n",
    "6. Create Data Frames with the extracted data\n",
    "7. Combine and  Save the required information from all pages to CSV files.\n",
    "\n",
    "\n",
    "Let us look at the format of CSV file, that will be created by the end of the Project:\n",
    "\n",
    "**Place Name,Best Time To Visit,Ratings,Link to know more About the Place**     \n",
    "MANALI,October to Jun,4.5,https://www.holidify.com//places/manali         \n",
    "LADAKH,Jun to Sep,4.6,https://www.holidify.com//places/ladakh\n",
    " "
   ]
  },
  {
   "cell_type": "code",
   "execution_count": 5,
   "metadata": {},
   "outputs": [],
   "source": [
    "!pip install jovian --upgrade --quiet"
   ]
  },
  {
   "cell_type": "code",
   "execution_count": 6,
   "metadata": {},
   "outputs": [],
   "source": [
    "import jovian"
   ]
  },
  {
   "cell_type": "markdown",
   "metadata": {},
   "source": [
    "## 1.Download the web page using *requests*\n",
    "\n",
    "*Requests* library can be used to download the web page from the link. It can be installed using `pip`."
   ]
  },
  {
   "cell_type": "code",
   "execution_count": 7,
   "metadata": {},
   "outputs": [],
   "source": [
    "!pip install requests --upgrade --quiet"
   ]
  },
  {
   "cell_type": "code",
   "execution_count": 8,
   "metadata": {},
   "outputs": [],
   "source": [
    "import requests"
   ]
  },
  {
   "cell_type": "code",
   "execution_count": 9,
   "metadata": {},
   "outputs": [],
   "source": [
    "Holidify_page_url ='https://www.holidify.com/country/india/places-to-visit.html'\n",
    "\n",
    "#Execute this to get the response from the page\n",
    "page_response = requests.get(Holidify_page_url)"
   ]
  },
  {
   "cell_type": "markdown",
   "metadata": {},
   "source": [
    "   Let us check the `type`  and `status` of *page_response*. The `.status_code` property is used to check whether the request is successful or not.A successful response will have the status code between 200 and 299"
   ]
  },
  {
   "cell_type": "code",
   "execution_count": 10,
   "metadata": {},
   "outputs": [
    {
     "data": {
      "text/plain": [
       "requests.models.Response"
      ]
     },
     "execution_count": 10,
     "metadata": {},
     "output_type": "execute_result"
    }
   ],
   "source": [
    "#to know about the type of response\n",
    "type(page_response)"
   ]
  },
  {
   "cell_type": "code",
   "execution_count": 11,
   "metadata": {},
   "outputs": [
    {
     "data": {
      "text/plain": [
       "200"
      ]
     },
     "execution_count": 11,
     "metadata": {},
     "output_type": "execute_result"
    }
   ],
   "source": [
    "#checking the status of response\n",
    "page_response.status_code"
   ]
  },
  {
   "cell_type": "markdown",
   "metadata": {},
   "source": [
    "yaay! the request was successful.Now we can get the contents of the page using *page_response*`.text`"
   ]
  },
  {
   "cell_type": "code",
   "execution_count": 12,
   "metadata": {},
   "outputs": [],
   "source": [
    "contents_of_page = page_response.text"
   ]
  },
  {
   "cell_type": "markdown",
   "metadata": {},
   "source": [
    "Number of characters in the page can be found using`len()`  "
   ]
  },
  {
   "cell_type": "code",
   "execution_count": 13,
   "metadata": {},
   "outputs": [
    {
     "data": {
      "text/plain": [
       "313493"
      ]
     },
     "execution_count": 13,
     "metadata": {},
     "output_type": "execute_result"
    }
   ],
   "source": [
    "len(contents_of_page)"
   ]
  },
  {
   "cell_type": "markdown",
   "metadata": {},
   "source": [
    "It seems like there are over 31,00 characters in the page. let us see what are the first 200 characters!"
   ]
  },
  {
   "cell_type": "code",
   "execution_count": 14,
   "metadata": {},
   "outputs": [
    {
     "data": {
      "text/plain": [
       "\"<!doctype html>\\n\\n\\n\\n\\n\\n\\n\\n\\n\\n\\n\\n\\n\\n\\n\\n\\n\\n\\n\\n\\n\\n\\n\\n\\n\\n\\n<html>\\n   <head>\\n   \\n   \\n      \\n    \\n    \\n\\n    \\n\\n\\n\\n<script>\\n\\t  dataLayer = [{\\n\\t    'pageType': 'Country.TopPlaces',\\n\\t    'countryCode' : 'INDIA',\\n\\t    'contin\""
      ]
     },
     "execution_count": 14,
     "metadata": {},
     "output_type": "execute_result"
    }
   ],
   "source": [
    "#to get the top 200 Characters of the source code\n",
    "contents_of_page[:200]"
   ]
  },
  {
   "cell_type": "markdown",
   "metadata": {},
   "source": [
    "This is how the *HTML source code* of the page look like.[*HTML*](https://www.w3schools.com/html/) is a language used to create pages on the Web. Let us save the entire code into a file and view the page locally within *jupyter* using \"File > Open\"."
   ]
  },
  {
   "cell_type": "code",
   "execution_count": 15,
   "metadata": {},
   "outputs": [],
   "source": [
    "#to create a local HTML file with extracted source code\n",
    "with open('Holidify-webpage.html', 'w' ,encoding='utf-8')as file:\n",
    "    file.write(contents_of_page)"
   ]
  },
  {
   "cell_type": "markdown",
   "metadata": {},
   "source": [
    "Let's see how the *html* code and output of it looks like in jupyter. The page looks similar to the original web page but non of the links work in it. "
   ]
  },
  {
   "cell_type": "markdown",
   "metadata": {},
   "source": [
    "By this we have successfully downloaded the web page."
   ]
  },
  {
   "cell_type": "markdown",
   "metadata": {},
   "source": [
    "## 2.Parse the HTML Source code of the website using *BeautifulSoup.*\n",
    "\n",
    "Now let us install and import `BeasutifulSoup` for parsing the data from the website. Also see what tags can we get from the page."
   ]
  },
  {
   "cell_type": "code",
   "execution_count": 16,
   "metadata": {},
   "outputs": [],
   "source": [
    "#Installing Beautifulsoup\n",
    "!pip install beautifulsoup4 --upgrade --quiet"
   ]
  },
  {
   "cell_type": "code",
   "execution_count": 17,
   "metadata": {},
   "outputs": [],
   "source": [
    "from bs4 import BeautifulSoup"
   ]
  },
  {
   "cell_type": "markdown",
   "metadata": {},
   "source": [
    "we have installed and imported BeautifulSoup. Using this, get all the information from the website into a variable like *doc* and check its *type*."
   ]
  },
  {
   "cell_type": "code",
   "execution_count": 18,
   "metadata": {},
   "outputs": [],
   "source": [
    "#applying beautifulsoup\n",
    "doc = BeautifulSoup(contents_of_page,'html.parser')"
   ]
  },
  {
   "cell_type": "code",
   "execution_count": 19,
   "metadata": {},
   "outputs": [
    {
     "data": {
      "text/plain": [
       "bs4.BeautifulSoup"
      ]
     },
     "execution_count": 19,
     "metadata": {},
     "output_type": "execute_result"
    }
   ],
   "source": [
    "type(doc)"
   ]
  },
  {
   "cell_type": "markdown",
   "metadata": {},
   "source": [
    "Check what can be parsed from the website."
   ]
  },
  {
   "cell_type": "code",
   "execution_count": 20,
   "metadata": {},
   "outputs": [
    {
     "data": {
      "text/plain": [
       "<title> 100  Places To Visit In India | Tourist Places in India | Holidify  </title>"
      ]
     },
     "execution_count": 20,
     "metadata": {},
     "output_type": "execute_result"
    }
   ],
   "source": [
    "#to check the first element under the title_tag\n",
    "doc.find('title')"
   ]
  },
  {
   "cell_type": "markdown",
   "metadata": {},
   "source": [
    "###### Now, Let's write a function, covering everything we have done till here."
   ]
  },
  {
   "cell_type": "code",
   "execution_count": 21,
   "metadata": {},
   "outputs": [],
   "source": [
    "#Function to get the beautifulsoup document from the link\n",
    "def Get_page_contents(page_link):\n",
    "    response = requests.get(page_link)\n",
    "    if response.status_code != 200:\n",
    "        raise Exception ('Unable to fetch the page {}'.format(page_link))\n",
    "    contents_of_page = response.text\n",
    "    doc = BeautifulSoup(response.text,'html.parser')\n",
    "    return doc"
   ]
  },
  {
   "cell_type": "markdown",
   "metadata": {},
   "source": [
    "Let's see how it works."
   ]
  },
  {
   "cell_type": "code",
   "execution_count": 22,
   "metadata": {},
   "outputs": [],
   "source": [
    "#Check the function\n",
    "demo_doc= Get_page_contents(Holidify_page_url)"
   ]
  },
  {
   "cell_type": "code",
   "execution_count": 23,
   "metadata": {},
   "outputs": [
    {
     "data": {
      "text/plain": [
       "<title> 100  Places To Visit In India | Tourist Places in India | Holidify  </title>"
      ]
     },
     "execution_count": 23,
     "metadata": {},
     "output_type": "execute_result"
    }
   ],
   "source": [
    "demo_doc.find('title')"
   ]
  },
  {
   "cell_type": "markdown",
   "metadata": {},
   "source": [
    "so, we can use the function '*Get_page_contents*' for downloading and parsing information from any website."
   ]
  },
  {
   "cell_type": "markdown",
   "metadata": {},
   "source": [
    "## 3.Extract the required information from the page.\n",
    "\n",
    "Extracting the required information is the crucial and complicated part of the web-scraping.We will take the help of *BeautifulSoup* and *HTML* in extracting the required information.           \n",
    "To Extract a particular information from the web page, we need to right click on that element and select `inspect`.Then, you will get a view something like below.\n",
    "Here, i wanted to extract the *ratings* of places, so i have inspected the page by clicking on the rating. You can see that the HTML tag and code of that particular rating is highlighted in the HTML code window.\n",
    "\n",
    "[]! Image"
   ]
  },
  {
   "cell_type": "markdown",
   "metadata": {},
   "source": [
    "### 3.1 Let us Extract the links of other Pages from [Holidify](https://www.holidify.com/country/india/places-to-visit.html) web page .\n",
    "When we inspect the page, we can see that the page links are in *[a_tags](https://www.w3schools.com/tags/tag_a.asp)*, under class 'Page-link'. Let us a write a code to get that information and `print` it to see the result.\n",
    "![](https://i.imgur.com/7p4saDZ.png)"
   ]
  },
  {
   "cell_type": "code",
   "execution_count": 24,
   "metadata": {},
   "outputs": [
    {
     "name": "stdout",
     "output_type": "stream",
     "text": [
      "['https://www.holidify.com//country/india/places-to-visit.html?pageNum=0', 'https://www.holidify.com//country/india/places-to-visit.html?pageNum=0', 'https://www.holidify.com//country/india/places-to-visit.html?pageNum=1', 'https://www.holidify.com//country/india/places-to-visit.html?pageNum=2', 'https://www.holidify.com//country/india/places-to-visit.html?pageNum=1']\n"
     ]
    }
   ],
   "source": [
    "#extract other page links from the webpage\n",
    "page_links =doc.find_all('a',class_=\"page-link\")\n",
    "page_link_urls =[]\n",
    "#To get alive link, add the below URL before the elements we are extracting.\n",
    "url='https://www.holidify.com/'\n",
    "for tag in page_links:\n",
    "    page_link_urls.append(url+tag['href'])\n",
    "print(page_link_urls)"
   ]
  },
  {
   "cell_type": "markdown",
   "metadata": {},
   "source": [
    "Now, let us write a function to get next page links from the *BeautifulSoup* Document automatically."
   ]
  },
  {
   "cell_type": "code",
   "execution_count": 25,
   "metadata": {},
   "outputs": [],
   "source": [
    "#function to get next page links\n",
    "def Get_page_links(page_doc):\n",
    "    page_links =page_doc.find_all('a',class_=\"page-link\")\n",
    "    page_link_urls =[]\n",
    "    url='https://www.holidify.com/'\n",
    "    for tag in page_links:\n",
    "        page_link_urls.append(url+tag['href'])\n",
    "    return page_link_urls"
   ]
  },
  {
   "cell_type": "markdown",
   "metadata": {},
   "source": [
    "Lets check how it works.\n"
   ]
  },
  {
   "cell_type": "code",
   "execution_count": 26,
   "metadata": {
    "scrolled": true
   },
   "outputs": [],
   "source": [
    "#checking the function\n",
    "Links_of_pages = Get_page_links(Get_page_contents(Holidify_page_url))"
   ]
  },
  {
   "cell_type": "code",
   "execution_count": 27,
   "metadata": {},
   "outputs": [
    {
     "data": {
      "text/plain": [
       "'https://www.holidify.com//country/india/places-to-visit.html?pageNum=1'"
      ]
     },
     "execution_count": 27,
     "metadata": {},
     "output_type": "execute_result"
    }
   ],
   "source": [
    "#execute to get the link of second page\n",
    "Links_of_pages[2]"
   ]
  },
  {
   "cell_type": "markdown",
   "metadata": {},
   "source": [
    "Yaay! We made it. similarly, let's write functions to extract all the required information."
   ]
  },
  {
   "cell_type": "markdown",
   "metadata": {},
   "source": [
    "### 3.2 Extract 'Tourist place names'.       \n",
    "By inspecting the page, we came to know that the place names are inside [<div_tags](https://www.w3schools.com/tags/tag_div.ASP#:~:text=The%20tag%20defines%20a,inside%20the%20tag!)  under class 'card content-card.So let's extarct the information using these two as filters.\n",
    "![](https://i.imgur.com/SBSBee5.png)"
   ]
  },
  {
   "cell_type": "code",
   "execution_count": 28,
   "metadata": {},
   "outputs": [
    {
     "name": "stdout",
     "output_type": "stream",
     "text": [
      "['MANALI', 'LADAKH', 'COORG', 'ANDAMAN-NICOBAR-ISLANDS', 'LAKSHADWEEP-ISLANDS', 'GOA', 'UDAIPUR', 'SRINAGAR', 'GANGTOK', 'MUNNAR', 'VARKALA', 'MCLEODGANJ', 'RISHIKESH', 'ALLEPPEY', 'DARJEELING', 'NAINITAL', 'SHIMLA', 'OOTY', 'JAIPUR', 'LONAVALA', 'MUSSOORIE', 'KODAIKANAL', 'DALHOUSIE', 'PACHMARHI', 'VARANASI', 'MUMBAI', 'AGRA', 'KOLKATA', 'JODHPUR', 'BANGALORE', 'AMRITSAR', 'DELHI', 'JAISALMER', 'MOUNT-ABU', 'WAYANAD', 'HYDERABAD', 'PONDICHERRY', 'KHAJURAHO', 'CHENNAI', 'VAISHNO-DEVI', 'AJANTA-AND-ELLORA-CAVES', 'HARIDWAR']\n"
     ]
    }
   ],
   "source": [
    "#get all div_tags with class 'card content-card'\n",
    "Place_Name_Tags = doc.find_all('div', class_= 'card content-card')\n",
    "Place_Names=[]\n",
    "#Code to get only required information from the contents inside the tag\n",
    "for tag in Place_Name_Tags:\n",
    "    Place_Names.append(tag['data-itemid'])\n",
    "print(Place_Names)"
   ]
  },
  {
   "cell_type": "markdown",
   "metadata": {},
   "source": [
    "Now let's create a function to get Place Names automatically from the *BeautifulSoup* doc."
   ]
  },
  {
   "cell_type": "code",
   "execution_count": 29,
   "metadata": {},
   "outputs": [],
   "source": [
    "#function to extract place names from the beautifulsoup document\n",
    "def Get_place_names(page_doc):\n",
    "    Place_Name_Tags = page_doc.find_all('div', class_= 'card content-card')   \n",
    "    Place_Names=[]\n",
    "    for tag in Place_Name_Tags:\n",
    "        Place_Names.append(tag['data-itemid'])\n",
    "    return Place_Names"
   ]
  },
  {
   "cell_type": "markdown",
   "metadata": {},
   "source": [
    "Lets Check how it is working. Get top 5 Names from the second page."
   ]
  },
  {
   "cell_type": "code",
   "execution_count": 30,
   "metadata": {},
   "outputs": [
    {
     "data": {
      "text/plain": [
       "['KANYAKUMARI', 'PUNE', 'KOCHI', 'AHMEDABAD', 'KANHA-NATIONAL-PARK']"
      ]
     },
     "execution_count": 30,
     "metadata": {},
     "output_type": "execute_result"
    }
   ],
   "source": [
    "#cheking the function Get_place_names\n",
    "Get_place_names(Get_page_contents(Links_of_pages[2]))[:5]"
   ]
  },
  {
   "cell_type": "markdown",
   "metadata": {},
   "source": [
    "Yup. It worked! Here we have used all the functions we have created till now."
   ]
  },
  {
   "cell_type": "markdown",
   "metadata": {},
   "source": [
    "### 3.3 Extract information to get '*Best Time To Visit*' the places.       \n",
    "From the HTML code of the web page, we can see that the best time to visit the place was given in [<p_tags](https://www.w3schools.com/tags/tag_p.asp) under class 'mb-3'. Let's get that information.\n",
    "![](https://i.imgur.com/dsNg9HN.png)"
   ]
  },
  {
   "cell_type": "code",
   "execution_count": 31,
   "metadata": {},
   "outputs": [
    {
     "name": "stdout",
     "output_type": "stream",
     "text": [
      "['October to Jun', 'Jun to Sep', 'October to March', 'October to Jun', 'September to May', 'October to March', 'October to March', 'April to October', 'Throughout the year', 'September to May', 'Throughout the year', 'October to Jun', 'Throughout the year', 'June to March', 'February to March, September to December', 'Throughout the year', 'October to Jun', 'Throughout the year', 'October to March', 'Throughout the year', 'September to Jun', 'September to May', 'Throughout the year', 'Throughout the year', 'October to March', 'October to February', 'October to March', 'October to March', 'November to February', 'Throughout the year', 'October to March', 'October to March', 'October to March', 'October to March', 'Throughout the year', 'September to March', 'October to March', 'July to March', 'October to March', 'Throughout the year', 'June to March', 'Throughout the year']\n"
     ]
    }
   ],
   "source": [
    "#first extract all p_tags with class 'mb-3'\n",
    "Visit_time_Tags=doc.find_all('p',class_='mb-3')\n",
    "Best_time_to_visit=[]\n",
    "#now get only text showing when to when\n",
    "for tag in Visit_time_Tags:\n",
    "    Best_time_to_visit.append(tag.text.strip('Best Time').strip(':').strip())\n",
    "print(Best_time_to_visit)"
   ]
  },
  {
   "cell_type": "markdown",
   "metadata": {},
   "source": [
    "Now lets create a function to get the same information easily."
   ]
  },
  {
   "cell_type": "code",
   "execution_count": 32,
   "metadata": {
    "code_folding": []
   },
   "outputs": [],
   "source": [
    "#function to extract 'Best time to visit' from the beautifulsoup document\n",
    "def Get_best_time_to_visit(page_doc):\n",
    "    Visit_time_Tags=page_doc.find_all('p',class_='mb-3')\n",
    "    Best_time=[]\n",
    "    for tag in Visit_time_Tags:\n",
    "        Best_time.append(tag.text.strip('Best Time').strip(':').strip())\n",
    "    return Best_time"
   ]
  },
  {
   "cell_type": "markdown",
   "metadata": {},
   "source": [
    "Now, let's find the best time to visit **top 5** places in **3rd page.**"
   ]
  },
  {
   "cell_type": "code",
   "execution_count": 33,
   "metadata": {},
   "outputs": [
    {
     "data": {
      "text/plain": [
       "['October to March',\n",
       " 'October to March',\n",
       " 'September to March',\n",
       " 'Throughout the year',\n",
       " 'July to March']"
      ]
     },
     "execution_count": 33,
     "metadata": {},
     "output_type": "execute_result"
    }
   ],
   "source": [
    "#using 'Get_page_contents' function to get the beautifulsoup doc\n",
    "Get_best_time_to_visit(Get_page_contents(Links_of_pages[3]))[:5]"
   ]
  },
  {
   "cell_type": "markdown",
   "metadata": {},
   "source": [
    "### 3.4 Extract the *Ratings* given for the places.     \n",
    "We can find the rantings in between [<b_tags](https://www.w3schools.com/tags/tag_b.asp) inside [<span_tags](https://www.w3schools.com/tags/tag_span.asp) with class_='rating-badge'. Let's get that information.\n",
    "![](https://i.imgur.com/qkSBHQs.png)"
   ]
  },
  {
   "cell_type": "code",
   "execution_count": 34,
   "metadata": {},
   "outputs": [
    {
     "name": "stdout",
     "output_type": "stream",
     "text": [
      "['4.5/5', '4.6/5', '4.2/5', '4.5/5', '4.0/5', '4.5/5', '4.4/5', '4.5/5', '4.4/5', '4.5/5', '4.5/5', '4.4/5', '4.3/5', '4.5/5', '4.3/5', '4.3/5', '4.3/5', '4.3/5', '4.4/5', '4.1/5', '4.2/5', '4.4/5', '4.2/5', '4.4/5', '4.5/5', '4.2/5', '4.2/5', '4.3/5', '4.2/5', '4.1/5', '4.4/5', '4.1/5', '4.4/5', '4.4/5', '4.3/5', '4.1/5', '4.1/5', '4.6/5', '3.9/5', '4.4/5', '4.3/5', '4.0/5']\n"
     ]
    }
   ],
   "source": [
    "#Get all span_tags with class_='rating-badge'\n",
    "Rating_Tags= doc.find_all('span', 'b', class_='rating-badge')\n",
    "#Now get required text and strip all the unwanted information \n",
    "Ratings=[]\n",
    "for tag in Rating_Tags:\n",
    "    Ratings.append(tag.text.strip('\\n''/5').strip()+'/5')\n",
    "print(Ratings)"
   ]
  },
  {
   "cell_type": "markdown",
   "metadata": {},
   "source": [
    "Let's Create a function for this now."
   ]
  },
  {
   "cell_type": "code",
   "execution_count": 35,
   "metadata": {},
   "outputs": [],
   "source": [
    "#function to extract ratings from the beautifulsoup document\n",
    "def Get_ratings(page_doc):\n",
    "    Rating_Tags= page_doc.find_all('span', 'b', class_='rating-badge')\n",
    "    Ratings=[]\n",
    "    for tag in Rating_Tags:\n",
    "        Ratings.append(tag.text.strip('\\n''/5').strip()+'/5')\n",
    "    return Ratings"
   ]
  },
  {
   "cell_type": "markdown",
   "metadata": {},
   "source": [
    "Now, let's find the Ratings given to top 5 places in 2nd page."
   ]
  },
  {
   "cell_type": "code",
   "execution_count": 36,
   "metadata": {},
   "outputs": [
    {
     "data": {
      "text/plain": [
       "['4.1/5', '4.1/5', '4.2/5', '4.1/5', '3.8/5']"
      ]
     },
     "execution_count": 36,
     "metadata": {},
     "output_type": "execute_result"
    }
   ],
   "source": [
    "#check how the above function works\n",
    "Get_ratings(Get_page_contents(Links_of_pages[2]))[:5]"
   ]
  },
  {
   "cell_type": "markdown",
   "metadata": {},
   "source": [
    "### 3.5 Extract 'links' that provide detailed information about the places.   \n",
    "We can see that the link to get more information about the place is in <div_tags with class 'content-card-footer' \n",
    ". Let's get those links out.\n",
    "![](https://i.imgur.com/T3DZeYY.png)"
   ]
  },
  {
   "cell_type": "code",
   "execution_count": 37,
   "metadata": {},
   "outputs": [
    {
     "name": "stdout",
     "output_type": "stream",
     "text": [
      "['https://www.holidify.com//places/manali', 'https://www.holidify.com//places/ladakh', 'https://www.holidify.com//places/coorg', 'https://www.holidify.com//places/andaman-nicobar-islands', 'https://www.holidify.com//places/lakshadweep-islands', 'https://www.holidify.com//places/goa']\n"
     ]
    }
   ],
   "source": [
    "#get the links from div tags, under class 'content-card-footer'\n",
    "Place_link_Tags =doc.find_all('div',class_='content-card-footer')\n",
    "know_more_about_place_link =[]\n",
    "#To get a live link, add the below URL before the elements we are extracting.\n",
    "link_url='https://www.holidify.com/'\n",
    "for tag in Place_link_Tags:\n",
    "    know_more_about_place_link.append(link_url+tag['data-href'])\n",
    "    \n",
    "#lets print first 6 links from the list\n",
    "print (know_more_about_place_link[:6])"
   ]
  },
  {
   "cell_type": "markdown",
   "metadata": {},
   "source": [
    "Let's create a function for the above code."
   ]
  },
  {
   "cell_type": "code",
   "execution_count": 38,
   "metadata": {},
   "outputs": [],
   "source": [
    "#function to extract place links from the beautifulsoup document\n",
    "def Get_place_info_links(page_doc):\n",
    "    Place_link_Tags =page_doc.find_all('div',class_='content-card-footer')\n",
    "    know_more_about_place_link =[]\n",
    "    link_url='https://www.holidify.com/'\n",
    "    for tag in Place_link_Tags:\n",
    "        know_more_about_place_link.append(link_url+tag['data-href'])\n",
    "    return know_more_about_place_link"
   ]
  },
  {
   "cell_type": "markdown",
   "metadata": {},
   "source": [
    "Let us get links to know about *Manali,ladakh and coorg*."
   ]
  },
  {
   "cell_type": "code",
   "execution_count": 39,
   "metadata": {},
   "outputs": [
    {
     "data": {
      "text/plain": [
       "['https://www.holidify.com//places/manali',\n",
       " 'https://www.holidify.com//places/ladakh',\n",
       " 'https://www.holidify.com//places/coorg']"
      ]
     },
     "execution_count": 39,
     "metadata": {},
     "output_type": "execute_result"
    }
   ],
   "source": [
    "#Get links of top 3 places from page 1\n",
    "Get_place_info_links(Get_page_contents(Links_of_pages[1]))[:3]"
   ]
  },
  {
   "cell_type": "markdown",
   "metadata": {},
   "source": [
    "By now, we have extracted all the required data separately. Let us prepare lists and dictionaries using this information."
   ]
  },
  {
   "cell_type": "markdown",
   "metadata": {},
   "source": [
    "## 4.Prepare python lists and dictionaries with the extracted and cleaned information.\n",
    "We have successfully extracted all the required data from the page. Now let us create few [lists](https://www.w3schools.com/python/python_lists.asp) and [Dictionaries](https://www.w3schools.com/python/python_dictionaries.asp) to get any particular information.  \n",
    "Let us write a function to get the details of a particular place with respect to their index value."
   ]
  },
  {
   "cell_type": "markdown",
   "metadata": {},
   "source": [
    "**Let's create a function to get the details of a place as a dictionary**"
   ]
  },
  {
   "cell_type": "code",
   "execution_count": 40,
   "metadata": {},
   "outputs": [],
   "source": [
    "#Function to get the details of a particular place with respect to their index value.\n",
    "def Get_place_Details (Place_Name_Tags,Rating_Tags,Visit_time_Tags,Place_link_Tags):\n",
    "    # Provides required information about the tourist Places.\n",
    "    Tourist_place = Place_Name_Tags['data-itemid']\n",
    "    Best_time_to_Visit = Visit_time_Tags.text.strip('Best Time').strip(':').strip()\n",
    "    Rating_for_Place = Rating_Tags.text.strip('\\n''/5').strip()+'/5'\n",
    "    Link_for_more_details = link_url+ Place_link_Tags['data-href']\n",
    "    \n",
    "    return Tourist_place,Best_time_to_Visit,Rating_for_Place,Link_for_more_details"
   ]
  },
  {
   "cell_type": "markdown",
   "metadata": {},
   "source": [
    "Let us try to get details of 3rd place in page 1 and see how it works."
   ]
  },
  {
   "cell_type": "code",
   "execution_count": 41,
   "metadata": {},
   "outputs": [
    {
     "data": {
      "text/plain": [
       "('COORG',\n",
       " 'October to March',\n",
       " '4.2/5',\n",
       " 'https://www.holidify.com//places/coorg')"
      ]
     },
     "execution_count": 41,
     "metadata": {},
     "output_type": "execute_result"
    }
   ],
   "source": [
    "#to get the details of 3rd place\n",
    "Get_place_Details (Place_Name_Tags[2],Rating_Tags[2],Visit_time_Tags[2],Place_link_Tags[2])"
   ]
  },
  {
   "cell_type": "markdown",
   "metadata": {},
   "source": [
    "**Creating a dictionary with all the lists we have prepared.**\n"
   ]
  },
  {
   "cell_type": "code",
   "execution_count": 42,
   "metadata": {
    "scrolled": true
   },
   "outputs": [
    {
     "data": {
      "text/plain": [
       "{'Tourist place': ['MANALI',\n",
       "  'LADAKH',\n",
       "  'COORG',\n",
       "  'ANDAMAN-NICOBAR-ISLANDS',\n",
       "  'LAKSHADWEEP-ISLANDS',\n",
       "  'GOA',\n",
       "  'UDAIPUR',\n",
       "  'SRINAGAR',\n",
       "  'GANGTOK',\n",
       "  'MUNNAR',\n",
       "  'VARKALA',\n",
       "  'MCLEODGANJ',\n",
       "  'RISHIKESH',\n",
       "  'ALLEPPEY',\n",
       "  'DARJEELING',\n",
       "  'NAINITAL',\n",
       "  'SHIMLA',\n",
       "  'OOTY',\n",
       "  'JAIPUR',\n",
       "  'LONAVALA',\n",
       "  'MUSSOORIE',\n",
       "  'KODAIKANAL',\n",
       "  'DALHOUSIE',\n",
       "  'PACHMARHI',\n",
       "  'VARANASI',\n",
       "  'MUMBAI',\n",
       "  'AGRA',\n",
       "  'KOLKATA',\n",
       "  'JODHPUR',\n",
       "  'BANGALORE',\n",
       "  'AMRITSAR',\n",
       "  'DELHI',\n",
       "  'JAISALMER',\n",
       "  'MOUNT-ABU',\n",
       "  'WAYANAD',\n",
       "  'HYDERABAD',\n",
       "  'PONDICHERRY',\n",
       "  'KHAJURAHO',\n",
       "  'CHENNAI',\n",
       "  'VAISHNO-DEVI',\n",
       "  'AJANTA-AND-ELLORA-CAVES',\n",
       "  'HARIDWAR'],\n",
       " 'Best time to Visit': ['October to Jun',\n",
       "  'Jun to Sep',\n",
       "  'October to March',\n",
       "  'October to Jun',\n",
       "  'September to May',\n",
       "  'October to March',\n",
       "  'October to March',\n",
       "  'April to October',\n",
       "  'Throughout the year',\n",
       "  'September to May',\n",
       "  'Throughout the year',\n",
       "  'October to Jun',\n",
       "  'Throughout the year',\n",
       "  'June to March',\n",
       "  'February to March, September to December',\n",
       "  'Throughout the year',\n",
       "  'October to Jun',\n",
       "  'Throughout the year',\n",
       "  'October to March',\n",
       "  'Throughout the year',\n",
       "  'September to Jun',\n",
       "  'September to May',\n",
       "  'Throughout the year',\n",
       "  'Throughout the year',\n",
       "  'October to March',\n",
       "  'October to February',\n",
       "  'October to March',\n",
       "  'October to March',\n",
       "  'November to February',\n",
       "  'Throughout the year',\n",
       "  'October to March',\n",
       "  'October to March',\n",
       "  'October to March',\n",
       "  'October to March',\n",
       "  'Throughout the year',\n",
       "  'September to March',\n",
       "  'October to March',\n",
       "  'July to March',\n",
       "  'October to March',\n",
       "  'Throughout the year',\n",
       "  'June to March',\n",
       "  'Throughout the year'],\n",
       " 'Rating for Place': ['4.5/5',\n",
       "  '4.6/5',\n",
       "  '4.2/5',\n",
       "  '4.5/5',\n",
       "  '4.0/5',\n",
       "  '4.5/5',\n",
       "  '4.4/5',\n",
       "  '4.5/5',\n",
       "  '4.4/5',\n",
       "  '4.5/5',\n",
       "  '4.5/5',\n",
       "  '4.4/5',\n",
       "  '4.3/5',\n",
       "  '4.5/5',\n",
       "  '4.3/5',\n",
       "  '4.3/5',\n",
       "  '4.3/5',\n",
       "  '4.3/5',\n",
       "  '4.4/5',\n",
       "  '4.1/5',\n",
       "  '4.2/5',\n",
       "  '4.4/5',\n",
       "  '4.2/5',\n",
       "  '4.4/5',\n",
       "  '4.5/5',\n",
       "  '4.2/5',\n",
       "  '4.2/5',\n",
       "  '4.3/5',\n",
       "  '4.2/5',\n",
       "  '4.1/5',\n",
       "  '4.4/5',\n",
       "  '4.1/5',\n",
       "  '4.4/5',\n",
       "  '4.4/5',\n",
       "  '4.3/5',\n",
       "  '4.1/5',\n",
       "  '4.1/5',\n",
       "  '4.6/5',\n",
       "  '3.9/5',\n",
       "  '4.4/5',\n",
       "  '4.3/5',\n",
       "  '4.0/5'],\n",
       " 'Link for more details': ['https://www.holidify.com//places/manali',\n",
       "  'https://www.holidify.com//places/ladakh',\n",
       "  'https://www.holidify.com//places/coorg',\n",
       "  'https://www.holidify.com//places/andaman-nicobar-islands',\n",
       "  'https://www.holidify.com//places/lakshadweep-islands',\n",
       "  'https://www.holidify.com//places/goa',\n",
       "  'https://www.holidify.com//places/udaipur',\n",
       "  'https://www.holidify.com//places/srinagar',\n",
       "  'https://www.holidify.com//places/gangtok',\n",
       "  'https://www.holidify.com//places/munnar',\n",
       "  'https://www.holidify.com//places/varkala',\n",
       "  'https://www.holidify.com//places/mcleodganj',\n",
       "  'https://www.holidify.com//places/rishikesh',\n",
       "  'https://www.holidify.com//places/alleppey',\n",
       "  'https://www.holidify.com//places/darjeeling',\n",
       "  'https://www.holidify.com//places/nainital',\n",
       "  'https://www.holidify.com//places/shimla',\n",
       "  'https://www.holidify.com//places/ooty',\n",
       "  'https://www.holidify.com//places/jaipur',\n",
       "  'https://www.holidify.com//places/lonavala',\n",
       "  'https://www.holidify.com//places/mussoorie',\n",
       "  'https://www.holidify.com//places/kodaikanal',\n",
       "  'https://www.holidify.com//places/dalhousie',\n",
       "  'https://www.holidify.com//places/pachmarhi',\n",
       "  'https://www.holidify.com//places/varanasi',\n",
       "  'https://www.holidify.com//places/mumbai',\n",
       "  'https://www.holidify.com//places/agra',\n",
       "  'https://www.holidify.com//places/kolkata',\n",
       "  'https://www.holidify.com//places/jodhpur',\n",
       "  'https://www.holidify.com//places/bangalore',\n",
       "  'https://www.holidify.com//places/amritsar',\n",
       "  'https://www.holidify.com//places/delhi',\n",
       "  'https://www.holidify.com//places/jaisalmer',\n",
       "  'https://www.holidify.com//places/mount-abu',\n",
       "  'https://www.holidify.com//places/wayanad',\n",
       "  'https://www.holidify.com//places/hyderabad',\n",
       "  'https://www.holidify.com//places/pondicherry',\n",
       "  'https://www.holidify.com//places/khajuraho',\n",
       "  'https://www.holidify.com//places/chennai',\n",
       "  'https://www.holidify.com//places/vaishno-devi',\n",
       "  'https://www.holidify.com//places/ajanta-and-ellora-caves',\n",
       "  'https://www.holidify.com//places/haridwar']}"
      ]
     },
     "execution_count": 42,
     "metadata": {},
     "output_type": "execute_result"
    }
   ],
   "source": [
    "#Give the 'Key' names for dictionary\n",
    "Tourist_places_dict={\n",
    "    'Tourist place':[],\n",
    "    'Best time to Visit':[],\n",
    "    'Rating for Place':[],\n",
    "    'Link for more details':[]\n",
    "}\n",
    "\n",
    "#add the respective values to the keys\n",
    "for i in range(len(Place_Name_Tags)):\n",
    "    Tourism_Details = Get_place_Details(Place_Name_Tags[i],Rating_Tags[i],Visit_time_Tags[i],Place_link_Tags[i])\n",
    "    Tourist_places_dict['Tourist place'].append(Tourism_Details[0])\n",
    "    Tourist_places_dict['Best time to Visit'].append(Tourism_Details[1])\n",
    "    Tourist_places_dict['Rating for Place'].append(Tourism_Details[2])\n",
    "    Tourist_places_dict['Link for more details'].append(Tourism_Details[3])\n",
    "    \n",
    "#Lets see what we get by executing this.\n",
    "Tourist_places_dict"
   ]
  },
  {
   "cell_type": "markdown",
   "metadata": {},
   "source": [
    "We got a dictionary with lists of all details."
   ]
  },
  {
   "cell_type": "markdown",
   "metadata": {},
   "source": [
    "## 5.Create Pandas DataFrame\n",
    "Pandas DataFrame is two-dimensional size-mutable, potentially heterogeneous tabular data structure with labeled axes (rows and columns). A Data frame is a two-dimensional data structure, i.e., data is aligned in a tabular fashion in rows and columns. Know more about Data Frames [here](https://www.geeksforgeeks.org/python-pandas-dataframe/#:~:text=Pandas%20DataFrame%20is%20two%2Ddimensional,fashion%20in%20rows%20and%20columns.).                           \n",
    "\n",
    "let us install and import Pandas."
   ]
  },
  {
   "cell_type": "code",
   "execution_count": 43,
   "metadata": {},
   "outputs": [],
   "source": [
    "#Install Pandas\n",
    "!pip install pandas --quiet"
   ]
  },
  {
   "cell_type": "code",
   "execution_count": 44,
   "metadata": {},
   "outputs": [],
   "source": [
    "#imort pandas \n",
    "import pandas as pd"
   ]
  },
  {
   "cell_type": "markdown",
   "metadata": {},
   "source": [
    "Let's write a code to get all required information from a page into a Data Frame. We use `pd.DataFrame()` to convert a dictionary into a Data Frame Structure."
   ]
  },
  {
   "cell_type": "code",
   "execution_count": 45,
   "metadata": {},
   "outputs": [
    {
     "data": {
      "text/html": [
       "<div>\n",
       "<style scoped>\n",
       "    .dataframe tbody tr th:only-of-type {\n",
       "        vertical-align: middle;\n",
       "    }\n",
       "\n",
       "    .dataframe tbody tr th {\n",
       "        vertical-align: top;\n",
       "    }\n",
       "\n",
       "    .dataframe thead th {\n",
       "        text-align: right;\n",
       "    }\n",
       "</style>\n",
       "<table border=\"1\" class=\"dataframe\">\n",
       "  <thead>\n",
       "    <tr style=\"text-align: right;\">\n",
       "      <th></th>\n",
       "      <th>Tourist Place</th>\n",
       "      <th>Best time to Visit</th>\n",
       "      <th>Ratings</th>\n",
       "      <th>More about The Place</th>\n",
       "    </tr>\n",
       "  </thead>\n",
       "  <tbody>\n",
       "    <tr>\n",
       "      <th>0</th>\n",
       "      <td>MANALI</td>\n",
       "      <td>October to Jun</td>\n",
       "      <td>4.5/5</td>\n",
       "      <td>https://www.holidify.com//places/manali</td>\n",
       "    </tr>\n",
       "    <tr>\n",
       "      <th>1</th>\n",
       "      <td>LADAKH</td>\n",
       "      <td>Jun to Sep</td>\n",
       "      <td>4.6/5</td>\n",
       "      <td>https://www.holidify.com//places/ladakh</td>\n",
       "    </tr>\n",
       "    <tr>\n",
       "      <th>2</th>\n",
       "      <td>COORG</td>\n",
       "      <td>October to March</td>\n",
       "      <td>4.2/5</td>\n",
       "      <td>https://www.holidify.com//places/coorg</td>\n",
       "    </tr>\n",
       "    <tr>\n",
       "      <th>3</th>\n",
       "      <td>ANDAMAN-NICOBAR-ISLANDS</td>\n",
       "      <td>October to Jun</td>\n",
       "      <td>4.5/5</td>\n",
       "      <td>https://www.holidify.com//places/andaman-nicob...</td>\n",
       "    </tr>\n",
       "    <tr>\n",
       "      <th>4</th>\n",
       "      <td>LAKSHADWEEP-ISLANDS</td>\n",
       "      <td>September to May</td>\n",
       "      <td>4.0/5</td>\n",
       "      <td>https://www.holidify.com//places/lakshadweep-i...</td>\n",
       "    </tr>\n",
       "    <tr>\n",
       "      <th>5</th>\n",
       "      <td>GOA</td>\n",
       "      <td>October to March</td>\n",
       "      <td>4.5/5</td>\n",
       "      <td>https://www.holidify.com//places/goa</td>\n",
       "    </tr>\n",
       "    <tr>\n",
       "      <th>6</th>\n",
       "      <td>UDAIPUR</td>\n",
       "      <td>October to March</td>\n",
       "      <td>4.4/5</td>\n",
       "      <td>https://www.holidify.com//places/udaipur</td>\n",
       "    </tr>\n",
       "    <tr>\n",
       "      <th>7</th>\n",
       "      <td>SRINAGAR</td>\n",
       "      <td>April to October</td>\n",
       "      <td>4.5/5</td>\n",
       "      <td>https://www.holidify.com//places/srinagar</td>\n",
       "    </tr>\n",
       "    <tr>\n",
       "      <th>8</th>\n",
       "      <td>GANGTOK</td>\n",
       "      <td>Throughout the year</td>\n",
       "      <td>4.4/5</td>\n",
       "      <td>https://www.holidify.com//places/gangtok</td>\n",
       "    </tr>\n",
       "    <tr>\n",
       "      <th>9</th>\n",
       "      <td>MUNNAR</td>\n",
       "      <td>September to May</td>\n",
       "      <td>4.5/5</td>\n",
       "      <td>https://www.holidify.com//places/munnar</td>\n",
       "    </tr>\n",
       "    <tr>\n",
       "      <th>10</th>\n",
       "      <td>VARKALA</td>\n",
       "      <td>Throughout the year</td>\n",
       "      <td>4.5/5</td>\n",
       "      <td>https://www.holidify.com//places/varkala</td>\n",
       "    </tr>\n",
       "    <tr>\n",
       "      <th>11</th>\n",
       "      <td>MCLEODGANJ</td>\n",
       "      <td>October to Jun</td>\n",
       "      <td>4.4/5</td>\n",
       "      <td>https://www.holidify.com//places/mcleodganj</td>\n",
       "    </tr>\n",
       "    <tr>\n",
       "      <th>12</th>\n",
       "      <td>RISHIKESH</td>\n",
       "      <td>Throughout the year</td>\n",
       "      <td>4.3/5</td>\n",
       "      <td>https://www.holidify.com//places/rishikesh</td>\n",
       "    </tr>\n",
       "    <tr>\n",
       "      <th>13</th>\n",
       "      <td>ALLEPPEY</td>\n",
       "      <td>June to March</td>\n",
       "      <td>4.5/5</td>\n",
       "      <td>https://www.holidify.com//places/alleppey</td>\n",
       "    </tr>\n",
       "    <tr>\n",
       "      <th>14</th>\n",
       "      <td>DARJEELING</td>\n",
       "      <td>February to March, September to December</td>\n",
       "      <td>4.3/5</td>\n",
       "      <td>https://www.holidify.com//places/darjeeling</td>\n",
       "    </tr>\n",
       "    <tr>\n",
       "      <th>15</th>\n",
       "      <td>NAINITAL</td>\n",
       "      <td>Throughout the year</td>\n",
       "      <td>4.3/5</td>\n",
       "      <td>https://www.holidify.com//places/nainital</td>\n",
       "    </tr>\n",
       "    <tr>\n",
       "      <th>16</th>\n",
       "      <td>SHIMLA</td>\n",
       "      <td>October to Jun</td>\n",
       "      <td>4.3/5</td>\n",
       "      <td>https://www.holidify.com//places/shimla</td>\n",
       "    </tr>\n",
       "    <tr>\n",
       "      <th>17</th>\n",
       "      <td>OOTY</td>\n",
       "      <td>Throughout the year</td>\n",
       "      <td>4.3/5</td>\n",
       "      <td>https://www.holidify.com//places/ooty</td>\n",
       "    </tr>\n",
       "    <tr>\n",
       "      <th>18</th>\n",
       "      <td>JAIPUR</td>\n",
       "      <td>October to March</td>\n",
       "      <td>4.4/5</td>\n",
       "      <td>https://www.holidify.com//places/jaipur</td>\n",
       "    </tr>\n",
       "    <tr>\n",
       "      <th>19</th>\n",
       "      <td>LONAVALA</td>\n",
       "      <td>Throughout the year</td>\n",
       "      <td>4.1/5</td>\n",
       "      <td>https://www.holidify.com//places/lonavala</td>\n",
       "    </tr>\n",
       "    <tr>\n",
       "      <th>20</th>\n",
       "      <td>MUSSOORIE</td>\n",
       "      <td>September to Jun</td>\n",
       "      <td>4.2/5</td>\n",
       "      <td>https://www.holidify.com//places/mussoorie</td>\n",
       "    </tr>\n",
       "    <tr>\n",
       "      <th>21</th>\n",
       "      <td>KODAIKANAL</td>\n",
       "      <td>September to May</td>\n",
       "      <td>4.4/5</td>\n",
       "      <td>https://www.holidify.com//places/kodaikanal</td>\n",
       "    </tr>\n",
       "    <tr>\n",
       "      <th>22</th>\n",
       "      <td>DALHOUSIE</td>\n",
       "      <td>Throughout the year</td>\n",
       "      <td>4.2/5</td>\n",
       "      <td>https://www.holidify.com//places/dalhousie</td>\n",
       "    </tr>\n",
       "    <tr>\n",
       "      <th>23</th>\n",
       "      <td>PACHMARHI</td>\n",
       "      <td>Throughout the year</td>\n",
       "      <td>4.4/5</td>\n",
       "      <td>https://www.holidify.com//places/pachmarhi</td>\n",
       "    </tr>\n",
       "    <tr>\n",
       "      <th>24</th>\n",
       "      <td>VARANASI</td>\n",
       "      <td>October to March</td>\n",
       "      <td>4.5/5</td>\n",
       "      <td>https://www.holidify.com//places/varanasi</td>\n",
       "    </tr>\n",
       "    <tr>\n",
       "      <th>25</th>\n",
       "      <td>MUMBAI</td>\n",
       "      <td>October to February</td>\n",
       "      <td>4.2/5</td>\n",
       "      <td>https://www.holidify.com//places/mumbai</td>\n",
       "    </tr>\n",
       "    <tr>\n",
       "      <th>26</th>\n",
       "      <td>AGRA</td>\n",
       "      <td>October to March</td>\n",
       "      <td>4.2/5</td>\n",
       "      <td>https://www.holidify.com//places/agra</td>\n",
       "    </tr>\n",
       "    <tr>\n",
       "      <th>27</th>\n",
       "      <td>KOLKATA</td>\n",
       "      <td>October to March</td>\n",
       "      <td>4.3/5</td>\n",
       "      <td>https://www.holidify.com//places/kolkata</td>\n",
       "    </tr>\n",
       "    <tr>\n",
       "      <th>28</th>\n",
       "      <td>JODHPUR</td>\n",
       "      <td>November to February</td>\n",
       "      <td>4.2/5</td>\n",
       "      <td>https://www.holidify.com//places/jodhpur</td>\n",
       "    </tr>\n",
       "    <tr>\n",
       "      <th>29</th>\n",
       "      <td>BANGALORE</td>\n",
       "      <td>Throughout the year</td>\n",
       "      <td>4.1/5</td>\n",
       "      <td>https://www.holidify.com//places/bangalore</td>\n",
       "    </tr>\n",
       "    <tr>\n",
       "      <th>30</th>\n",
       "      <td>AMRITSAR</td>\n",
       "      <td>October to March</td>\n",
       "      <td>4.4/5</td>\n",
       "      <td>https://www.holidify.com//places/amritsar</td>\n",
       "    </tr>\n",
       "    <tr>\n",
       "      <th>31</th>\n",
       "      <td>DELHI</td>\n",
       "      <td>October to March</td>\n",
       "      <td>4.1/5</td>\n",
       "      <td>https://www.holidify.com//places/delhi</td>\n",
       "    </tr>\n",
       "    <tr>\n",
       "      <th>32</th>\n",
       "      <td>JAISALMER</td>\n",
       "      <td>October to March</td>\n",
       "      <td>4.4/5</td>\n",
       "      <td>https://www.holidify.com//places/jaisalmer</td>\n",
       "    </tr>\n",
       "    <tr>\n",
       "      <th>33</th>\n",
       "      <td>MOUNT-ABU</td>\n",
       "      <td>October to March</td>\n",
       "      <td>4.4/5</td>\n",
       "      <td>https://www.holidify.com//places/mount-abu</td>\n",
       "    </tr>\n",
       "    <tr>\n",
       "      <th>34</th>\n",
       "      <td>WAYANAD</td>\n",
       "      <td>Throughout the year</td>\n",
       "      <td>4.3/5</td>\n",
       "      <td>https://www.holidify.com//places/wayanad</td>\n",
       "    </tr>\n",
       "    <tr>\n",
       "      <th>35</th>\n",
       "      <td>HYDERABAD</td>\n",
       "      <td>September to March</td>\n",
       "      <td>4.1/5</td>\n",
       "      <td>https://www.holidify.com//places/hyderabad</td>\n",
       "    </tr>\n",
       "    <tr>\n",
       "      <th>36</th>\n",
       "      <td>PONDICHERRY</td>\n",
       "      <td>October to March</td>\n",
       "      <td>4.1/5</td>\n",
       "      <td>https://www.holidify.com//places/pondicherry</td>\n",
       "    </tr>\n",
       "    <tr>\n",
       "      <th>37</th>\n",
       "      <td>KHAJURAHO</td>\n",
       "      <td>July to March</td>\n",
       "      <td>4.6/5</td>\n",
       "      <td>https://www.holidify.com//places/khajuraho</td>\n",
       "    </tr>\n",
       "    <tr>\n",
       "      <th>38</th>\n",
       "      <td>CHENNAI</td>\n",
       "      <td>October to March</td>\n",
       "      <td>3.9/5</td>\n",
       "      <td>https://www.holidify.com//places/chennai</td>\n",
       "    </tr>\n",
       "    <tr>\n",
       "      <th>39</th>\n",
       "      <td>VAISHNO-DEVI</td>\n",
       "      <td>Throughout the year</td>\n",
       "      <td>4.4/5</td>\n",
       "      <td>https://www.holidify.com//places/vaishno-devi</td>\n",
       "    </tr>\n",
       "    <tr>\n",
       "      <th>40</th>\n",
       "      <td>AJANTA-AND-ELLORA-CAVES</td>\n",
       "      <td>June to March</td>\n",
       "      <td>4.3/5</td>\n",
       "      <td>https://www.holidify.com//places/ajanta-and-el...</td>\n",
       "    </tr>\n",
       "    <tr>\n",
       "      <th>41</th>\n",
       "      <td>HARIDWAR</td>\n",
       "      <td>Throughout the year</td>\n",
       "      <td>4.0/5</td>\n",
       "      <td>https://www.holidify.com//places/haridwar</td>\n",
       "    </tr>\n",
       "  </tbody>\n",
       "</table>\n",
       "</div>"
      ],
      "text/plain": [
       "              Tourist Place                        Best time to Visit Ratings  \\\n",
       "0                    MANALI                            October to Jun   4.5/5   \n",
       "1                    LADAKH                                Jun to Sep   4.6/5   \n",
       "2                     COORG                          October to March   4.2/5   \n",
       "3   ANDAMAN-NICOBAR-ISLANDS                            October to Jun   4.5/5   \n",
       "4       LAKSHADWEEP-ISLANDS                          September to May   4.0/5   \n",
       "5                       GOA                          October to March   4.5/5   \n",
       "6                   UDAIPUR                          October to March   4.4/5   \n",
       "7                  SRINAGAR                          April to October   4.5/5   \n",
       "8                   GANGTOK                       Throughout the year   4.4/5   \n",
       "9                    MUNNAR                          September to May   4.5/5   \n",
       "10                  VARKALA                       Throughout the year   4.5/5   \n",
       "11               MCLEODGANJ                            October to Jun   4.4/5   \n",
       "12                RISHIKESH                       Throughout the year   4.3/5   \n",
       "13                 ALLEPPEY                             June to March   4.5/5   \n",
       "14               DARJEELING  February to March, September to December   4.3/5   \n",
       "15                 NAINITAL                       Throughout the year   4.3/5   \n",
       "16                   SHIMLA                            October to Jun   4.3/5   \n",
       "17                     OOTY                       Throughout the year   4.3/5   \n",
       "18                   JAIPUR                          October to March   4.4/5   \n",
       "19                 LONAVALA                       Throughout the year   4.1/5   \n",
       "20                MUSSOORIE                          September to Jun   4.2/5   \n",
       "21               KODAIKANAL                          September to May   4.4/5   \n",
       "22                DALHOUSIE                       Throughout the year   4.2/5   \n",
       "23                PACHMARHI                       Throughout the year   4.4/5   \n",
       "24                 VARANASI                          October to March   4.5/5   \n",
       "25                   MUMBAI                       October to February   4.2/5   \n",
       "26                     AGRA                          October to March   4.2/5   \n",
       "27                  KOLKATA                          October to March   4.3/5   \n",
       "28                  JODHPUR                      November to February   4.2/5   \n",
       "29                BANGALORE                       Throughout the year   4.1/5   \n",
       "30                 AMRITSAR                          October to March   4.4/5   \n",
       "31                    DELHI                          October to March   4.1/5   \n",
       "32                JAISALMER                          October to March   4.4/5   \n",
       "33                MOUNT-ABU                          October to March   4.4/5   \n",
       "34                  WAYANAD                       Throughout the year   4.3/5   \n",
       "35                HYDERABAD                        September to March   4.1/5   \n",
       "36              PONDICHERRY                          October to March   4.1/5   \n",
       "37                KHAJURAHO                             July to March   4.6/5   \n",
       "38                  CHENNAI                          October to March   3.9/5   \n",
       "39             VAISHNO-DEVI                       Throughout the year   4.4/5   \n",
       "40  AJANTA-AND-ELLORA-CAVES                             June to March   4.3/5   \n",
       "41                 HARIDWAR                       Throughout the year   4.0/5   \n",
       "\n",
       "                                 More about The Place  \n",
       "0             https://www.holidify.com//places/manali  \n",
       "1             https://www.holidify.com//places/ladakh  \n",
       "2              https://www.holidify.com//places/coorg  \n",
       "3   https://www.holidify.com//places/andaman-nicob...  \n",
       "4   https://www.holidify.com//places/lakshadweep-i...  \n",
       "5                https://www.holidify.com//places/goa  \n",
       "6            https://www.holidify.com//places/udaipur  \n",
       "7           https://www.holidify.com//places/srinagar  \n",
       "8            https://www.holidify.com//places/gangtok  \n",
       "9             https://www.holidify.com//places/munnar  \n",
       "10           https://www.holidify.com//places/varkala  \n",
       "11        https://www.holidify.com//places/mcleodganj  \n",
       "12         https://www.holidify.com//places/rishikesh  \n",
       "13          https://www.holidify.com//places/alleppey  \n",
       "14        https://www.holidify.com//places/darjeeling  \n",
       "15          https://www.holidify.com//places/nainital  \n",
       "16            https://www.holidify.com//places/shimla  \n",
       "17              https://www.holidify.com//places/ooty  \n",
       "18            https://www.holidify.com//places/jaipur  \n",
       "19          https://www.holidify.com//places/lonavala  \n",
       "20         https://www.holidify.com//places/mussoorie  \n",
       "21        https://www.holidify.com//places/kodaikanal  \n",
       "22         https://www.holidify.com//places/dalhousie  \n",
       "23         https://www.holidify.com//places/pachmarhi  \n",
       "24          https://www.holidify.com//places/varanasi  \n",
       "25            https://www.holidify.com//places/mumbai  \n",
       "26              https://www.holidify.com//places/agra  \n",
       "27           https://www.holidify.com//places/kolkata  \n",
       "28           https://www.holidify.com//places/jodhpur  \n",
       "29         https://www.holidify.com//places/bangalore  \n",
       "30          https://www.holidify.com//places/amritsar  \n",
       "31             https://www.holidify.com//places/delhi  \n",
       "32         https://www.holidify.com//places/jaisalmer  \n",
       "33         https://www.holidify.com//places/mount-abu  \n",
       "34           https://www.holidify.com//places/wayanad  \n",
       "35         https://www.holidify.com//places/hyderabad  \n",
       "36       https://www.holidify.com//places/pondicherry  \n",
       "37         https://www.holidify.com//places/khajuraho  \n",
       "38           https://www.holidify.com//places/chennai  \n",
       "39      https://www.holidify.com//places/vaishno-devi  \n",
       "40  https://www.holidify.com//places/ajanta-and-el...  \n",
       "41          https://www.holidify.com//places/haridwar  "
      ]
     },
     "execution_count": 45,
     "metadata": {},
     "output_type": "execute_result"
    }
   ],
   "source": [
    "#Create a dictinary with all the required keys and appropriate values.\n",
    "Travel_dict={\n",
    "    'Tourist Place':Place_Names,\n",
    "    'Best time to Visit':Best_time_to_visit,\n",
    "    'Ratings':Ratings,\n",
    "    'More about The Place':know_more_about_place_link}\n",
    "#convert the dictionary into a DataFrame\n",
    "Travel_Details = pd.DataFrame(Travel_dict)\n",
    "\n",
    "#Let'see the output\n",
    "Travel_Details"
   ]
  },
  {
   "cell_type": "markdown",
   "metadata": {},
   "source": [
    ".\n",
    "\n",
    "This is the Data Frame for the information extracted from the first Page. **Now let us create a function to get a Data Frame out of any page from the website.**\n",
    "\n",
    "\n"
   ]
  },
  {
   "cell_type": "code",
   "execution_count": 46,
   "metadata": {},
   "outputs": [],
   "source": [
    "#function to get a data frame out of any selected page\n",
    "def Get_Data_Frame(Page_Number):\n",
    "    page_url= 'https://www.holidify.com/country/india/places-to-visit.html?pageNum='+(str(Page_Number -1))\n",
    "    response = requests.get(page_url)\n",
    "    #Check the status of the response\n",
    "    if response.status_code != 200:\n",
    "        raise Exception('Failed! Unable to fetch information from page {}'.format(Page_Number))\n",
    "    page_doc = BeautifulSoup(response.text,'html.parser')\n",
    "\n",
    "    #Craete a dictionary with all the required keys and values\n",
    "    dict_tourist_place={\n",
    "        'Place Name':Get_place_names(page_doc),\n",
    "        'Best Time To Visit':Get_best_time_to_visit(page_doc),\n",
    "        'Ratings':Get_ratings(page_doc),\n",
    "        'Link to know more About the Place':Get_place_info_links(page_doc)}\n",
    "    #create a data frame out of dictionary\n",
    "    return pd.DataFrame(dict_tourist_place)\n"
   ]
  },
  {
   "cell_type": "markdown",
   "metadata": {},
   "source": [
    "Try getting a Dataframe from page 3 of Holidify Website."
   ]
  },
  {
   "cell_type": "code",
   "execution_count": 47,
   "metadata": {
    "scrolled": true
   },
   "outputs": [
    {
     "data": {
      "text/html": [
       "<div>\n",
       "<style scoped>\n",
       "    .dataframe tbody tr th:only-of-type {\n",
       "        vertical-align: middle;\n",
       "    }\n",
       "\n",
       "    .dataframe tbody tr th {\n",
       "        vertical-align: top;\n",
       "    }\n",
       "\n",
       "    .dataframe thead th {\n",
       "        text-align: right;\n",
       "    }\n",
       "</style>\n",
       "<table border=\"1\" class=\"dataframe\">\n",
       "  <thead>\n",
       "    <tr style=\"text-align: right;\">\n",
       "      <th></th>\n",
       "      <th>Place Name</th>\n",
       "      <th>Best Time To Visit</th>\n",
       "      <th>Ratings</th>\n",
       "      <th>Link to know more About the Place</th>\n",
       "    </tr>\n",
       "  </thead>\n",
       "  <tbody>\n",
       "    <tr>\n",
       "      <th>0</th>\n",
       "      <td>AJMER</td>\n",
       "      <td>October to March</td>\n",
       "      <td>3.8/5</td>\n",
       "      <td>https://www.holidify.com//places/ajmer</td>\n",
       "    </tr>\n",
       "    <tr>\n",
       "      <th>1</th>\n",
       "      <td>AURANGABAD</td>\n",
       "      <td>October to March</td>\n",
       "      <td>3.8/5</td>\n",
       "      <td>https://www.holidify.com//places/aurangabad</td>\n",
       "    </tr>\n",
       "    <tr>\n",
       "      <th>2</th>\n",
       "      <td>JAMMU</td>\n",
       "      <td>September to March</td>\n",
       "      <td>4.1/5</td>\n",
       "      <td>https://www.holidify.com//places/jammu</td>\n",
       "    </tr>\n",
       "    <tr>\n",
       "      <th>3</th>\n",
       "      <td>DEHRADUN</td>\n",
       "      <td>Throughout the year</td>\n",
       "      <td>3.9/5</td>\n",
       "      <td>https://www.holidify.com//places/dehradun</td>\n",
       "    </tr>\n",
       "    <tr>\n",
       "      <th>4</th>\n",
       "      <td>PURI</td>\n",
       "      <td>July to March</td>\n",
       "      <td>4.3/5</td>\n",
       "      <td>https://www.holidify.com//places/puri</td>\n",
       "    </tr>\n",
       "    <tr>\n",
       "      <th>5</th>\n",
       "      <td>CHERRAPUNJEE</td>\n",
       "      <td>September to May</td>\n",
       "      <td>4.5/5</td>\n",
       "      <td>https://www.holidify.com//places/cherrapunjee</td>\n",
       "    </tr>\n",
       "    <tr>\n",
       "      <th>6</th>\n",
       "      <td>BIKANER</td>\n",
       "      <td>October to March</td>\n",
       "      <td>4.3/5</td>\n",
       "      <td>https://www.holidify.com//places/bikaner</td>\n",
       "    </tr>\n",
       "    <tr>\n",
       "      <th>7</th>\n",
       "      <td>SHIMOGA</td>\n",
       "      <td>July to December</td>\n",
       "      <td>4.4/5</td>\n",
       "      <td>https://www.holidify.com//places/shimoga</td>\n",
       "    </tr>\n",
       "    <tr>\n",
       "      <th>8</th>\n",
       "      <td>HOGENAKKAL</td>\n",
       "      <td>October to March</td>\n",
       "      <td>4.0/5</td>\n",
       "      <td>https://www.holidify.com//places/hogenakkal</td>\n",
       "    </tr>\n",
       "    <tr>\n",
       "      <th>9</th>\n",
       "      <td>GIR-NATIONAL-PARK</td>\n",
       "      <td>July to March</td>\n",
       "      <td>4.2/5</td>\n",
       "      <td>https://www.holidify.com//places/gir-national-...</td>\n",
       "    </tr>\n",
       "    <tr>\n",
       "      <th>10</th>\n",
       "      <td>KASAULI</td>\n",
       "      <td>Throughout the year</td>\n",
       "      <td>4.0/5</td>\n",
       "      <td>https://www.holidify.com//places/kasauli</td>\n",
       "    </tr>\n",
       "    <tr>\n",
       "      <th>11</th>\n",
       "      <td>PUSHKAR</td>\n",
       "      <td>October to March</td>\n",
       "      <td>4.0/5</td>\n",
       "      <td>https://www.holidify.com//places/pushkar</td>\n",
       "    </tr>\n",
       "    <tr>\n",
       "      <th>12</th>\n",
       "      <td>CHITTORGARH</td>\n",
       "      <td>October to March</td>\n",
       "      <td>4.1/5</td>\n",
       "      <td>https://www.holidify.com//places/chittorgarh</td>\n",
       "    </tr>\n",
       "    <tr>\n",
       "      <th>13</th>\n",
       "      <td>NAHAN</td>\n",
       "      <td>April to September</td>\n",
       "      <td>3.9/5</td>\n",
       "      <td>https://www.holidify.com//places/nahan</td>\n",
       "    </tr>\n",
       "    <tr>\n",
       "      <th>14</th>\n",
       "      <td>LAVASA</td>\n",
       "      <td>Throughout the year</td>\n",
       "      <td>3.9/5</td>\n",
       "      <td>https://www.holidify.com//places/lavasa</td>\n",
       "    </tr>\n",
       "    <tr>\n",
       "      <th>15</th>\n",
       "      <td>POOVAR</td>\n",
       "      <td>August to March</td>\n",
       "      <td>4.3/5</td>\n",
       "      <td>https://www.holidify.com//places/poovar</td>\n",
       "    </tr>\n",
       "  </tbody>\n",
       "</table>\n",
       "</div>"
      ],
      "text/plain": [
       "           Place Name   Best Time To Visit Ratings  \\\n",
       "0               AJMER     October to March   3.8/5   \n",
       "1          AURANGABAD     October to March   3.8/5   \n",
       "2               JAMMU   September to March   4.1/5   \n",
       "3            DEHRADUN  Throughout the year   3.9/5   \n",
       "4                PURI        July to March   4.3/5   \n",
       "5        CHERRAPUNJEE     September to May   4.5/5   \n",
       "6             BIKANER     October to March   4.3/5   \n",
       "7             SHIMOGA     July to December   4.4/5   \n",
       "8          HOGENAKKAL     October to March   4.0/5   \n",
       "9   GIR-NATIONAL-PARK        July to March   4.2/5   \n",
       "10            KASAULI  Throughout the year   4.0/5   \n",
       "11            PUSHKAR     October to March   4.0/5   \n",
       "12        CHITTORGARH     October to March   4.1/5   \n",
       "13              NAHAN   April to September   3.9/5   \n",
       "14             LAVASA  Throughout the year   3.9/5   \n",
       "15             POOVAR      August to March   4.3/5   \n",
       "\n",
       "                    Link to know more About the Place  \n",
       "0              https://www.holidify.com//places/ajmer  \n",
       "1         https://www.holidify.com//places/aurangabad  \n",
       "2              https://www.holidify.com//places/jammu  \n",
       "3           https://www.holidify.com//places/dehradun  \n",
       "4               https://www.holidify.com//places/puri  \n",
       "5       https://www.holidify.com//places/cherrapunjee  \n",
       "6            https://www.holidify.com//places/bikaner  \n",
       "7            https://www.holidify.com//places/shimoga  \n",
       "8         https://www.holidify.com//places/hogenakkal  \n",
       "9   https://www.holidify.com//places/gir-national-...  \n",
       "10           https://www.holidify.com//places/kasauli  \n",
       "11           https://www.holidify.com//places/pushkar  \n",
       "12       https://www.holidify.com//places/chittorgarh  \n",
       "13             https://www.holidify.com//places/nahan  \n",
       "14            https://www.holidify.com//places/lavasa  \n",
       "15            https://www.holidify.com//places/poovar  "
      ]
     },
     "execution_count": 47,
     "metadata": {},
     "output_type": "execute_result"
    }
   ],
   "source": [
    "#to create a data frame for page 3 details\n",
    "Get_Data_Frame(3)"
   ]
  },
  {
   "cell_type": "markdown",
   "metadata": {},
   "source": [
    "By here, we have completed extracting data from different pages and converting them into DataFrames. Now let us write all the functions together .Now let's try writing a code to generate CSV files out of the information."
   ]
  },
  {
   "cell_type": "markdown",
   "metadata": {},
   "source": [
    "## 6.Save the required information to *CSV files.*\n",
    "\n",
    "A [CSV (Comma Separated Values)](https://www.programiz.com/python-programming/csv#:~:text=To%20write%20to%20a%20CSV,data%20into%20a%20delimited%20string.) format is one of the most simple and common ways to store tabular data. To represent a CSV file, it must be saved with the `.csv`file extension. Let us write a code to convert the information extracted from different pages into  different `CSV Files`"
   ]
  },
  {
   "cell_type": "markdown",
   "metadata": {},
   "source": [
    "### 6.1 Save individual pages into distinct CSV files.         \n",
    "\n",
    "Let us save the data from each page into respective CSV files. As we have 3 pages, let's create 3 CSV files, one for each page.write a function to automatically scrape information from all pages and create respective CSV files"
   ]
  },
  {
   "cell_type": "code",
   "execution_count": 48,
   "metadata": {},
   "outputs": [
    {
     "name": "stdout",
     "output_type": "stream",
     "text": [
      "scraping Indian Tourism page 1\n",
      "scraping Indian Tourism page 2\n",
      "scraping Indian Tourism page 3\n"
     ]
    }
   ],
   "source": [
    "#Function to create csv files from each page\n",
    "def Create_CSV_Files():\n",
    "    for i in range(1,4):\n",
    "        Indian_tourism_details = Get_Data_Frame(i)\n",
    "        #To create a CSV file and saving it to .CSV File\n",
    "        Indian_tourism_details.to_csv('Indian Tourism page {}.csv'.format(i), index= None )\n",
    "        print( 'scraping Indian Tourism page {}'.format(i))\n",
    "\n",
    "#Lets Check how it works.\n",
    "Create_CSV_Files()"
   ]
  },
  {
   "cell_type": "markdown",
   "metadata": {},
   "source": [
    "We have created three CSV files. We can find them in `Jupyter Notebook` > `File` >`open`              \n",
    "But, till here we got the data individually for different pages. Lets combine all the data get it to one place."
   ]
  },
  {
   "cell_type": "markdown",
   "metadata": {},
   "source": [
    "### 6.2 Save all pages into a MEGA  *CSV* File\n",
    "\n",
    "Now, we will create appropriate functions to combine the extracted data from all the pages, create a dataframe with it and save it to a single CSV file. This will provide us with all the data from the selected pages in a single file."
   ]
  },
  {
   "cell_type": "markdown",
   "metadata": {},
   "source": [
    "####  Create a Mega Data Frame\n",
    "Let us write functions to combine information from all the pages and create a single,mega DataFrame."
   ]
  },
  {
   "cell_type": "code",
   "execution_count": 49,
   "metadata": {},
   "outputs": [],
   "source": [
    "#create a function to get all required information from a particular page\n",
    "def get_info_from_page(page_number):\n",
    "    url='https://www.holidify.com/country/india/places-to-visit.html?pageNum='+(str(page_number -1))\n",
    "    #use all the functions we have created to get the data\n",
    "    page_doc=Get_page_contents(url)\n",
    "    place_names = Get_place_names(page_doc)\n",
    "    Best_time_to_visit = Get_best_time_to_visit(page_doc)\n",
    "    place_ratings = Get_ratings(page_doc)\n",
    "    More_info_link = Get_place_info_links(page_doc)\n",
    "    return place_names,Best_time_to_visit,place_ratings,More_info_link"
   ]
  },
  {
   "cell_type": "markdown",
   "metadata": {},
   "source": [
    "Let's use `for` loop to combine data from all the pages. "
   ]
  },
  {
   "cell_type": "code",
   "execution_count": 50,
   "metadata": {},
   "outputs": [],
   "source": [
    "#Let's combine all the data from 3 page\n",
    "def combine_pages():\n",
    "\n",
    "    #Let's add respective data    \n",
    "    all_places,all_best_timings,all_ratings,all_info_links = [],[],[],[]\n",
    "    for page_number in range(1,4):\n",
    "        places,Best_timings,ratings,info_links = get_info_from_page(page_number)\n",
    "        #add data from each page to respective keys\n",
    "        all_places += places\n",
    "        all_best_timings += Best_timings\n",
    "        all_ratings += ratings\n",
    "        all_info_links += info_links\n",
    "\n",
    "    #Create a dictionary with all the data we have extracted\n",
    "    all_pages_info = {\n",
    "        'Place Name':all_places,\n",
    "        'Best Time To Visit': all_best_timings ,\n",
    "        'Ratings':all_ratings,\n",
    "        'Link to know more About the Place':all_info_links}\n",
    "    #convert the dictionary into a dataframe and write it to a variable\n",
    "    return pd.DataFrame(all_pages_info)"
   ]
  },
  {
   "cell_type": "markdown",
   "metadata": {},
   "source": [
    "Let us check how the Mega data frame looks."
   ]
  },
  {
   "cell_type": "code",
   "execution_count": 51,
   "metadata": {},
   "outputs": [
    {
     "data": {
      "text/html": [
       "<div>\n",
       "<style scoped>\n",
       "    .dataframe tbody tr th:only-of-type {\n",
       "        vertical-align: middle;\n",
       "    }\n",
       "\n",
       "    .dataframe tbody tr th {\n",
       "        vertical-align: top;\n",
       "    }\n",
       "\n",
       "    .dataframe thead th {\n",
       "        text-align: right;\n",
       "    }\n",
       "</style>\n",
       "<table border=\"1\" class=\"dataframe\">\n",
       "  <thead>\n",
       "    <tr style=\"text-align: right;\">\n",
       "      <th></th>\n",
       "      <th>Place Name</th>\n",
       "      <th>Best Time To Visit</th>\n",
       "      <th>Ratings</th>\n",
       "      <th>Link to know more About the Place</th>\n",
       "    </tr>\n",
       "  </thead>\n",
       "  <tbody>\n",
       "    <tr>\n",
       "      <th>0</th>\n",
       "      <td>MANALI</td>\n",
       "      <td>October to Jun</td>\n",
       "      <td>4.5/5</td>\n",
       "      <td>https://www.holidify.com//places/manali</td>\n",
       "    </tr>\n",
       "    <tr>\n",
       "      <th>1</th>\n",
       "      <td>LADAKH</td>\n",
       "      <td>Jun to Sep</td>\n",
       "      <td>4.6/5</td>\n",
       "      <td>https://www.holidify.com//places/ladakh</td>\n",
       "    </tr>\n",
       "    <tr>\n",
       "      <th>2</th>\n",
       "      <td>COORG</td>\n",
       "      <td>October to March</td>\n",
       "      <td>4.2/5</td>\n",
       "      <td>https://www.holidify.com//places/coorg</td>\n",
       "    </tr>\n",
       "    <tr>\n",
       "      <th>3</th>\n",
       "      <td>ANDAMAN-NICOBAR-ISLANDS</td>\n",
       "      <td>October to Jun</td>\n",
       "      <td>4.5/5</td>\n",
       "      <td>https://www.holidify.com//places/andaman-nicob...</td>\n",
       "    </tr>\n",
       "    <tr>\n",
       "      <th>4</th>\n",
       "      <td>LAKSHADWEEP-ISLANDS</td>\n",
       "      <td>September to May</td>\n",
       "      <td>4.0/5</td>\n",
       "      <td>https://www.holidify.com//places/lakshadweep-i...</td>\n",
       "    </tr>\n",
       "    <tr>\n",
       "      <th>...</th>\n",
       "      <td>...</td>\n",
       "      <td>...</td>\n",
       "      <td>...</td>\n",
       "      <td>...</td>\n",
       "    </tr>\n",
       "    <tr>\n",
       "      <th>95</th>\n",
       "      <td>PUSHKAR</td>\n",
       "      <td>October to March</td>\n",
       "      <td>4.0/5</td>\n",
       "      <td>https://www.holidify.com//places/pushkar</td>\n",
       "    </tr>\n",
       "    <tr>\n",
       "      <th>96</th>\n",
       "      <td>CHITTORGARH</td>\n",
       "      <td>October to March</td>\n",
       "      <td>4.1/5</td>\n",
       "      <td>https://www.holidify.com//places/chittorgarh</td>\n",
       "    </tr>\n",
       "    <tr>\n",
       "      <th>97</th>\n",
       "      <td>NAHAN</td>\n",
       "      <td>April to September</td>\n",
       "      <td>3.9/5</td>\n",
       "      <td>https://www.holidify.com//places/nahan</td>\n",
       "    </tr>\n",
       "    <tr>\n",
       "      <th>98</th>\n",
       "      <td>LAVASA</td>\n",
       "      <td>Throughout the year</td>\n",
       "      <td>3.9/5</td>\n",
       "      <td>https://www.holidify.com//places/lavasa</td>\n",
       "    </tr>\n",
       "    <tr>\n",
       "      <th>99</th>\n",
       "      <td>POOVAR</td>\n",
       "      <td>August to March</td>\n",
       "      <td>4.3/5</td>\n",
       "      <td>https://www.holidify.com//places/poovar</td>\n",
       "    </tr>\n",
       "  </tbody>\n",
       "</table>\n",
       "<p>100 rows × 4 columns</p>\n",
       "</div>"
      ],
      "text/plain": [
       "                 Place Name   Best Time To Visit Ratings  \\\n",
       "0                    MANALI       October to Jun   4.5/5   \n",
       "1                    LADAKH           Jun to Sep   4.6/5   \n",
       "2                     COORG     October to March   4.2/5   \n",
       "3   ANDAMAN-NICOBAR-ISLANDS       October to Jun   4.5/5   \n",
       "4       LAKSHADWEEP-ISLANDS     September to May   4.0/5   \n",
       "..                      ...                  ...     ...   \n",
       "95                  PUSHKAR     October to March   4.0/5   \n",
       "96              CHITTORGARH     October to March   4.1/5   \n",
       "97                    NAHAN   April to September   3.9/5   \n",
       "98                   LAVASA  Throughout the year   3.9/5   \n",
       "99                   POOVAR      August to March   4.3/5   \n",
       "\n",
       "                    Link to know more About the Place  \n",
       "0             https://www.holidify.com//places/manali  \n",
       "1             https://www.holidify.com//places/ladakh  \n",
       "2              https://www.holidify.com//places/coorg  \n",
       "3   https://www.holidify.com//places/andaman-nicob...  \n",
       "4   https://www.holidify.com//places/lakshadweep-i...  \n",
       "..                                                ...  \n",
       "95           https://www.holidify.com//places/pushkar  \n",
       "96       https://www.holidify.com//places/chittorgarh  \n",
       "97             https://www.holidify.com//places/nahan  \n",
       "98            https://www.holidify.com//places/lavasa  \n",
       "99            https://www.holidify.com//places/poovar  \n",
       "\n",
       "[100 rows x 4 columns]"
      ]
     },
     "execution_count": 51,
     "metadata": {},
     "output_type": "execute_result"
    }
   ],
   "source": [
    "#Execute the variable to get a dataframe with details from all 3 pages\n",
    "combine_pages()"
   ]
  },
  {
   "cell_type": "markdown",
   "metadata": {},
   "source": [
    "Yaay!. We got a data frame with all the **100 rows** from 3 pages, with the required **4 columns**"
   ]
  },
  {
   "cell_type": "markdown",
   "metadata": {},
   "source": [
    "####  Create a Mega CSV File\n",
    "\n",
    "Let us create a single CSV file using the `DATAFRAME` that contains all the data from three pages. "
   ]
  },
  {
   "cell_type": "code",
   "execution_count": 52,
   "metadata": {},
   "outputs": [
    {
     "name": "stdout",
     "output_type": "stream",
     "text": [
      "MEGA CSV file created\n"
     ]
    }
   ],
   "source": [
    "#execute this to save all the data into single csv file\n",
    "combine_pages().to_csv('Top 100 Indian Tourist Places.csv',index=None)\n",
    "print('MEGA CSV file created')"
   ]
  },
  {
   "cell_type": "markdown",
   "metadata": {},
   "source": [
    "**Add this CSV file to the Project Notebook**"
   ]
  },
  {
   "cell_type": "code",
   "execution_count": 53,
   "metadata": {},
   "outputs": [
    {
     "data": {
      "application/javascript": [
       "window.require && require([\"base/js/namespace\"],function(Jupyter){Jupyter.notebook.save_checkpoint()})"
      ],
      "text/plain": [
       "<IPython.core.display.Javascript object>"
      ]
     },
     "metadata": {},
     "output_type": "display_data"
    },
    {
     "name": "stdout",
     "output_type": "stream",
     "text": [
      "[jovian] Updating notebook \"tharakdasari25/indiantourism-web-scraping-project-1\" on https://jovian.com\u001b[0m\n",
      "[jovian] Uploading additional files...\u001b[0m\n",
      "[jovian] Committed successfully! https://jovian.com/tharakdasari25/indiantourism-web-scraping-project-1\u001b[0m\n"
     ]
    },
    {
     "data": {
      "text/plain": [
       "'https://jovian.com/tharakdasari25/indiantourism-web-scraping-project-1'"
      ]
     },
     "execution_count": 53,
     "metadata": {},
     "output_type": "execute_result"
    }
   ],
   "source": [
    "# Execute this to save the notebook add the required file to it \n",
    "jovian.commit(files=['Top 100 Indian Tourist Places.csv'])"
   ]
  },
  {
   "cell_type": "markdown",
   "metadata": {},
   "source": [
    "## 7.Write down all the functions  used in the project.\n",
    "\n",
    "Let us write all the libraries, functions,codes and data involved in the project into a single cell."
   ]
  },
  {
   "cell_type": "code",
   "execution_count": 54,
   "metadata": {},
   "outputs": [
    {
     "name": "stdout",
     "output_type": "stream",
     "text": [
      "MEGA CSV file created\n"
     ]
    }
   ],
   "source": [
    "#Install and import required libraries\n",
    "\n",
    "!pip install jovian --upgrade --quiet\n",
    "import jovian\n",
    "\n",
    "!pip install requests --upgrade --quiet\n",
    "import requests\n",
    "\n",
    "!pip install beautifulsoup4 --upgrade --quiet\n",
    "from bs4 import BeautifulSoup\n",
    "\n",
    "Holidify_page_url ='https://www.holidify.com/country/india/places-to-visit.html'\n",
    "\n",
    "#Function to get the HTML sourse code from the page\n",
    "def Get_page_contents(page_link):\n",
    "    response = requests.get(page_link)\n",
    "    if response.status_code != 200:\n",
    "        raise Exception ('Unable to fetch the page {}'.format(page_link))\n",
    "    contents_of_page = response.text\n",
    "    doc = BeautifulSoup(response.text,'html.parser')\n",
    "    return doc\n",
    "\n",
    "#Function to extract next page links from the selected webpage.\n",
    "def Get_page_links(page_doc):\n",
    "    page_links =page_doc.find_all('a',class_=\"page-link\")\n",
    "    page_link_urls =[]\n",
    "    url='https://www.holidify.com/'\n",
    "    for tag in page_links:\n",
    "        page_link_urls.append(url+tag['href'])\n",
    "    return page_link_urls\n",
    "\n",
    "\n",
    "#Function to extract 'Tourist place Name' from the website.\n",
    "def Get_place_names(page_doc):\n",
    "    Place_Name_Tags = page_doc.find_all('div', class_= 'card content-card')   \n",
    "    Place_Names=[]\n",
    "    for tag in Place_Name_Tags:\n",
    "        Place_Names.append(tag['data-itemid'])\n",
    "    return Place_Names\n",
    "\n",
    "\n",
    "#Function to get the 'Best time to visit' the particular place.\n",
    "def Get_best_time_to_visit(page_doc):\n",
    "    Visit_time_Tags=page_doc.find_all('p',class_='mb-3')\n",
    "    Best_time=[]\n",
    "    for tag in Visit_time_Tags:\n",
    "        Best_time.append(tag.text.strip('Best Time').strip(':').strip())\n",
    "    return Best_time\n",
    "\n",
    "\n",
    "#Function to get the ratings given for the place.\n",
    "def Get_ratings(page_doc):\n",
    "    Rating_Tags= page_doc.find_all('span', 'b', class_='rating-badge')\n",
    "    Ratings=[]\n",
    "    for tag in Rating_Tags:\n",
    "        Ratings.append(tag.text.strip('\\n''/5').strip()+'/5')\n",
    "    return Ratings\n",
    "\n",
    "\n",
    "#Function to get the links \n",
    "def Get_place_info_links(page_doc):\n",
    "    Place_link_Tags =page_doc.find_all('div',class_='content-card-footer')\n",
    "    know_more_about_place_link =[]\n",
    "    link_url='https://www.holidify.com/'\n",
    "    for tag in Place_link_Tags:\n",
    "        know_more_about_place_link.append(link_url+tag['data-href'])\n",
    "    return know_more_about_place_link\n",
    "\n",
    "\n",
    "#Function to get the details of a particular place with respect to their index value.\n",
    "def Get_place_Details (Place_Name_Tags,Rating_Tags,Visit_time_Tags,Place_link_Tags):\n",
    "    # Provides required information about the tourist Places.\n",
    "    Tourist_place = Place_Name_Tags['data-itemid']\n",
    "    Best_time_to_Visit = Visit_time_Tags.text.strip('Best Time').strip(':').strip()\n",
    "    Rating_for_Place = Rating_Tags.text.strip('\\n''/5').strip()+'/5'\n",
    "    Link_for_more_details = link_url+ Place_link_Tags['data-href']\n",
    "    \n",
    "    return Tourist_place,Best_time_to_Visit,Rating_for_Place,Link_for_more_details\n",
    "\n",
    "\n",
    "\n",
    "#Function to scrape each page and get a required  Dataframe\n",
    "def Get_Data_Frame(Page_Number):\n",
    "    page_url= 'https://www.holidify.com/country/india/places-to-visit.html?pageNum='+(str(Page_Number -1))\n",
    "    response = requests.get(page_url)\n",
    "    #Check the status of the response\n",
    "    if response.status_code != 200:\n",
    "        raise Exception('Failed! Unable to fetch information from page {}'.format(Page_Number))\n",
    "    page_doc = BeautifulSoup(response.text,'html.parser')\n",
    "\n",
    "    #Craete a dictionary with all the required keys and values\n",
    "    dict_tourist_place={\n",
    "        'Place Name':Get_place_names(page_doc),\n",
    "        'Best Time To Visit':Get_best_time_to_visit(page_doc),\n",
    "        'Ratings':Get_ratings(page_doc),\n",
    "        'Link to know more About the Place':Get_place_info_links(page_doc)}\n",
    "    #create a data frame out of dictionary\n",
    "    return pd.DataFrame(dict_tourist_place)\n",
    "\n",
    "\n",
    "#Function to create CSV files induvidually for all pages\n",
    "def Create_CSV_Files():\n",
    "    for i in range(1,4):\n",
    "        Indian_tourism_details = Get_Data_Frame(i)\n",
    "        #To create a CSV file and saving it to .CSV File\n",
    "        Indian_tourism_details.to_csv('Indian Tourism page {}.csv'.format(i), index= None )\n",
    "        print( 'scraping Indian Tourism page {}'.format(i))\n",
    "        \n",
    "#create a function to get all required information from a particular page\n",
    "def get_info_from_page(page_number):\n",
    "    url='https://www.holidify.com/country/india/places-to-visit.html?pageNum='+(str(page_number -1))\n",
    "    #use all the functions we have created to get the data\n",
    "    page_doc=Get_page_contents(url)\n",
    "    place_names = Get_place_names(page_doc)\n",
    "    Best_time_to_visit = Get_best_time_to_visit(page_doc)\n",
    "    place_ratings = Get_ratings(page_doc)\n",
    "    More_info_link = Get_place_info_links(page_doc)\n",
    "    return place_names,Best_time_to_visit,place_ratings,More_info_link\n",
    "\n",
    "\n",
    "#Let's combine all the data from 3 page\n",
    "def combine_pages():  \n",
    "    all_places,all_best_timings,all_ratings,all_info_links = [],[],[],[]\n",
    "    for page_number in range(1,4):\n",
    "        places,Best_timings,ratings,info_links = get_info_from_page(page_number)\n",
    "        #add data from each page to respective keys\n",
    "        all_places += places\n",
    "        all_best_timings += Best_timings\n",
    "        all_ratings += ratings\n",
    "        all_info_links += info_links\n",
    "    #Create a dictionary with all the data we have extracted\n",
    "    all_pages_info = {\n",
    "        'Place Name':all_places,\n",
    "        'Best Time To Visit': all_best_timings ,\n",
    "        'Ratings':all_ratings,\n",
    "        'Link to know more About the Place':all_info_links}\n",
    "     #convert the dictionary into a dataframe and write it to a variable\n",
    "    return pd.DataFrame(all_pages_info)\n",
    "\n",
    "#execute this to save all the data into single csv file\n",
    "combine_pages().to_csv('Top 100 Indian Tourist Places.csv',index=None)\n",
    "print('MEGA CSV file created')\n"
   ]
  },
  {
   "cell_type": "markdown",
   "metadata": {},
   "source": [
    "With this, we have completed scraping top 100 tourist places of India from *Holidify* web page."
   ]
  },
  {
   "cell_type": "markdown",
   "metadata": {},
   "source": [
    "## Summary Of the Project\n",
    "1. Install required libraries like *Jovian*,*Requests*,*BeautifulSoup*.\n",
    "2. Download *Holidify* webpage using `requests.`\n",
    "3. Save the HTML file of the page into Notebook.\n",
    "4. Parse the HTML source code using `beautiful soup.`\n",
    "5. Extract the information of tourist places like place_Name,ratings etc.\n",
    "6. Compile extracted information into python lists and dictionaries.\n",
    "7. Install and import `pandas` library.\n",
    "8. Save the extracted information into a `dataframe.`\n",
    "9. Create `CSV files` out of scraped information.\n",
    "10. Combine data from all pages and create a single `Data Frame` and `CSV` file."
   ]
  },
  {
   "cell_type": "markdown",
   "metadata": {},
   "source": [
    "## Future work\n",
    "1. Other details like Number of tourist attractions,Package details etc. can be scrapped from  the web page.\n",
    "2. Details inside the link provided to know more about the place, can also be extracted individually.\n",
    "3. Get Google Map locations of tourist places.\n",
    "4. Get beautiful scenery images for different tourist places.\n",
    "5. Get tourism details of other countries like Nepal,Bhutan,China etc.\n"
   ]
  },
  {
   "cell_type": "markdown",
   "metadata": {},
   "source": [
    "## References\n",
    "\n",
    "* Basics of Web scraping:  [Web Scraping and REST APIs](https://jovian.ai/learn/zero-to-data-analyst-bootcamp/lesson/web-scraping-and-rest-apis) lesson from Jovian [Data Science and Machine Learning Bootcamp](https://jovian.ai/learn/zero-to-data-analyst-bootcamp).\n",
    "* Tips for Documentation:  https://jovian.ai/learn/zero-to-data-analyst-bootcamp/lesson/documentation-and-storytelling\n",
    "* More about python Libraries for web scraping:  https://www.analyticsvidhya.com/blog/2020/04/5-popular-python-libraries-web-scraping/\n",
    "* Page Used for scraping:  https://www.holidify.com/country/india/places-to-visit.html\n",
    "* Image links from: https://imgur.com/upload\n"
   ]
  },
  {
   "cell_type": "code",
   "execution_count": 55,
   "metadata": {},
   "outputs": [
    {
     "data": {
      "application/javascript": [
       "window.require && require([\"base/js/namespace\"],function(Jupyter){Jupyter.notebook.save_checkpoint()})"
      ],
      "text/plain": [
       "<IPython.core.display.Javascript object>"
      ]
     },
     "metadata": {},
     "output_type": "display_data"
    },
    {
     "name": "stdout",
     "output_type": "stream",
     "text": [
      "[jovian] Updating notebook \"tharakdasari25/indiantourism-web-scraping-project-1\" on https://jovian.com\u001b[0m\n",
      "[jovian] Uploading additional files...\u001b[0m\n",
      "[jovian] Committed successfully! https://jovian.com/tharakdasari25/indiantourism-web-scraping-project-1\u001b[0m\n"
     ]
    },
    {
     "data": {
      "text/plain": [
       "'https://jovian.com/tharakdasari25/indiantourism-web-scraping-project-1'"
      ]
     },
     "execution_count": 55,
     "metadata": {},
     "output_type": "execute_result"
    }
   ],
   "source": [
    "# Execute this to save the notebook add the required file to it \n",
    "jovian.commit(files=['Top 100 Indian Tourist Places.csv'])"
   ]
  },
  {
   "cell_type": "code",
   "execution_count": null,
   "metadata": {},
   "outputs": [],
   "source": []
  }
 ],
 "metadata": {
  "kernelspec": {
   "display_name": "Python 3 (ipykernel)",
   "language": "python",
   "name": "python3"
  },
  "language_info": {
   "codemirror_mode": {
    "name": "ipython",
    "version": 3
   },
   "file_extension": ".py",
   "mimetype": "text/x-python",
   "name": "python",
   "nbconvert_exporter": "python",
   "pygments_lexer": "ipython3",
   "version": "3.9.7"
  }
 },
 "nbformat": 4,
 "nbformat_minor": 2
}
